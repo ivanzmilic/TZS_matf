{
 "cells": [
  {
   "cell_type": "code",
   "execution_count": 1,
   "id": "1d0743ae-9833-473f-9fb8-dabc9d215db1",
   "metadata": {},
   "outputs": [],
   "source": [
    "import numpy as np\n",
    "import matplotlib.pyplot as plt "
   ]
  },
  {
   "cell_type": "code",
   "execution_count": 2,
   "id": "ad0b8136-5b81-4518-aeea-6768b9439d52",
   "metadata": {},
   "outputs": [],
   "source": [
    "h = 6.626E-34\n",
    "c = 3E8\n",
    "k = 1.38E-23"
   ]
  },
  {
   "cell_type": "code",
   "execution_count": 3,
   "id": "7beae4f5-ca6b-490f-8bf1-13ae87b3169d",
   "metadata": {},
   "outputs": [],
   "source": [
    "dx = 100E3\n",
    "d = 150E9 \n",
    "D = 1\n",
    "llambda = 420E-9\n",
    "dllambda = 0.1E-9"
   ]
  },
  {
   "cell_type": "code",
   "execution_count": 4,
   "id": "3764b83a-2f9b-4e4a-880d-1c37a8a2361d",
   "metadata": {},
   "outputs": [],
   "source": [
    "def Planck(T, llambda):\n",
    "\n",
    "    return 2*h*c**2 / llambda**5.0 * (np.exp(h*c/llambda/k/T) - 1.0)**(-1.0)"
   ]
  },
  {
   "cell_type": "code",
   "execution_count": 5,
   "id": "6e73fac6-dd4d-4a74-8050-54ac7b5b82f7",
   "metadata": {},
   "outputs": [],
   "source": [
    "dN_dt = Planck(5777.0, llambda) * dllambda * D ** 2.0 / 4.0 * np.pi / d**2.0 * dx**2.0 / h /c * llambda"
   ]
  },
  {
   "cell_type": "code",
   "execution_count": 7,
   "id": "ddbb5eaa-5028-48d9-b6ed-013534580f9f",
   "metadata": {},
   "outputs": [
    {
     "name": "stdout",
     "output_type": "stream",
     "text": [
      "1.782184e+09\n"
     ]
    }
   ],
   "source": [
    "print(\"{:e}\".format(dN_dt))"
   ]
  },
  {
   "cell_type": "markdown",
   "id": "644bdb0d-63d1-404d-a5db-65960165a976",
   "metadata": {},
   "source": [
    "## Ovo je bas mnogo fotona. U praksi, za ovaj teleskop na ovoj talasnoj duzini, zelimo manje pixele (pixel treba da bude pola prostorne rezolucije). \n",
    "\n",
    "## Zatim, spektralne linije na Suncu pokazuju varijacije na mnogo manjim spektralnim skalama. Videti: \n",
    "\n",
    "https://bass2000.obspm.fr/solar_spect.php\n",
    "\n",
    "## Tako da hajde da smanjimo dllambda = E-12m "
   ]
  },
  {
   "cell_type": "code",
   "execution_count": 12,
   "id": "356df532-e7ab-4b2f-a546-29698a8eaefc",
   "metadata": {},
   "outputs": [],
   "source": [
    "dx = 50E3\n",
    "d = 150E9 \n",
    "D = 1\n",
    "llambda = 550E-9\n",
    "dllambda = 0.001E-9"
   ]
  },
  {
   "cell_type": "code",
   "execution_count": 13,
   "id": "2290fab1-69da-454a-91ae-6a3182f105aa",
   "metadata": {},
   "outputs": [
    {
     "name": "stdout",
     "output_type": "stream",
     "text": [
      "6.214239e+06\n"
     ]
    }
   ],
   "source": [
    "dN_dt = Planck(5777.0, llambda) * dllambda * D ** 2.0 / 4.0 * np.pi / d**2.0 * dx**2.0 / h /c * llambda\n",
    "print(\"{:e}\".format(dN_dt))"
   ]
  },
  {
   "cell_type": "markdown",
   "id": "f11de467-3727-4cb2-a4cb-6e27cd5c4f12",
   "metadata": {},
   "source": [
    "### U praki ovo bi bilo vise kao 5 x 10^5, jer bi teleskop imao jako ogranicenu efikasnost. "
   ]
  },
  {
   "cell_type": "code",
   "execution_count": null,
   "id": "51bca179-594b-4647-8473-f72dd0427e8c",
   "metadata": {},
   "outputs": [],
   "source": []
  }
 ],
 "metadata": {
  "kernelspec": {
   "display_name": "Python 3 (ipykernel)",
   "language": "python",
   "name": "python3"
  },
  "language_info": {
   "codemirror_mode": {
    "name": "ipython",
    "version": 3
   },
   "file_extension": ".py",
   "mimetype": "text/x-python",
   "name": "python",
   "nbconvert_exporter": "python",
   "pygments_lexer": "ipython3",
   "version": "3.10.14"
  }
 },
 "nbformat": 4,
 "nbformat_minor": 5
}
